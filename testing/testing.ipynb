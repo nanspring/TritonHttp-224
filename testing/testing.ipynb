{
 "cells": [
  {
   "cell_type": "code",
   "execution_count": 1,
   "metadata": {},
   "outputs": [],
   "source": [
    "from socket import socket\n",
    "import time"
   ]
  },
  {
   "cell_type": "code",
   "execution_count": 64,
   "metadata": {},
   "outputs": [],
   "source": [
    "ip = \"********\"\n",
    "port = 8080\n",
    "\n",
    "def request_response(request,ip,port):\n",
    "    s = socket()\n",
    "    s.connect((ip,port))\n",
    "    s.sendall(request)\n",
    "    time.sleep(2)\n",
    "    print(s.recv(4096).decode())"
   ]
  },
  {
   "cell_type": "markdown",
   "metadata": {},
   "source": [
    "### TEST 1\n",
    "\n",
    "200 Expect ; Simple Valid Request ; also check for content-length, which should be 307"
   ]
  },
  {
   "cell_type": "code",
   "execution_count": 34,
   "metadata": {},
   "outputs": [
    {
     "name": "stdout",
     "output_type": "stream",
     "text": [
      "HTTP/1.1 200 OK\r\n",
      "Server: Go-Triton-Server-1.0\r\n",
      "Last-Modified: Friday, 23-Oct-20 09:38:02 UTC\r\n",
      "Content-Type: text/html\r\n",
      "Content-Length: 307\r\n",
      "\r\n",
      "<html>\n",
      "<head>\n",
      "<title>Basic index file</title>\n",
      "</head>\n",
      "<body>\n",
      "<h1>This is a basic index file</h1>\n",
      "You can use this for testing.\n",
      "<p>\n",
      "<ul>\n",
      "<li><a href=UCSD_Seal.png alt=\"UCSD Seal\">UCSD seal</a>\n",
      "<li><a href=kitten.jpg alt=\"Kitten\">Kitten photo</a>\n",
      "<li><a href=subdir1/>A subdirectory</a>\n",
      "</ul>\n",
      "</body>\n",
      "</html>\n",
      "\n"
     ]
    }
   ],
   "source": [
    "test1 =b\"GET /index.html HTTP/1.1\\r\\nHost: Ha\\r\\n\\r\\n\"\n",
    "request_response(test1,ip,port)"
   ]
  },
  {
   "cell_type": "markdown",
   "metadata": {},
   "source": [
    "### TEST 2\n",
    "\n",
    "200 Expect ; Support Subdir ; /subdir1/index.html "
   ]
  },
  {
   "cell_type": "code",
   "execution_count": 35,
   "metadata": {},
   "outputs": [
    {
     "name": "stdout",
     "output_type": "stream",
     "text": [
      "HTTP/1.1 200 OK\r\n",
      "Server: Go-Triton-Server-1.0\r\n",
      "Last-Modified: Friday, 23-Oct-20 09:38:02 UTC\r\n",
      "Content-Type: text/html\r\n",
      "Content-Length: 177\r\n",
      "\r\n",
      "<html>\n",
      "<head>\n",
      "    <title>Basic subdirectory file</title>\n",
      "</head>\n",
      "<body>\n",
      "<h1>This is a basic index file for a subdirectory</h1>\n",
      "You can use this for testing.\n",
      "<p>\n",
      "</body>\n",
      "</html>\n",
      "\n"
     ]
    }
   ],
   "source": [
    "test2 =b\"GET /subdir1/index.html HTTP/1.1\\r\\nHost: Ha\\r\\n\\r\\n\"\n",
    "request_response(test2,ip,port)"
   ]
  },
  {
   "cell_type": "markdown",
   "metadata": {},
   "source": [
    "### TEST 3\n",
    "\n",
    "200 Expect ; translate / to /index.html"
   ]
  },
  {
   "cell_type": "code",
   "execution_count": 41,
   "metadata": {},
   "outputs": [
    {
     "name": "stdout",
     "output_type": "stream",
     "text": [
      "HTTP/1.1 200 OK\r\n",
      "Server: Go-Triton-Server-1.0\r\n",
      "Last-Modified: Friday, 23-Oct-20 09:38:02 UTC\r\n",
      "Content-Type: text/html\r\n",
      "Content-Length: 307\r\n",
      "\r\n",
      "<html>\n",
      "<head>\n",
      "<title>Basic index file</title>\n",
      "</head>\n",
      "<body>\n",
      "<h1>This is a basic index file</h1>\n",
      "You can use this for testing.\n",
      "<p>\n",
      "<ul>\n",
      "<li><a href=UCSD_Seal.png alt=\"UCSD Seal\">UCSD seal</a>\n",
      "<li><a href=kitten.jpg alt=\"Kitten\">Kitten photo</a>\n",
      "<li><a href=subdir1/>A subdirectory</a>\n",
      "</ul>\n",
      "</body>\n",
      "</html>\n",
      "\n"
     ]
    }
   ],
   "source": [
    "test3 = b\"GET / HTTP/1.1\\r\\nHost: Ha\\r\\n\\r\\n\"\n",
    "request_response(test3,ip,port)"
   ]
  },
  {
   "cell_type": "markdown",
   "metadata": {},
   "source": [
    "### Test 4\n",
    "\n",
    "200 Expect ; translate /subdir1/ to /subdir/index.html"
   ]
  },
  {
   "cell_type": "code",
   "execution_count": 42,
   "metadata": {},
   "outputs": [
    {
     "name": "stdout",
     "output_type": "stream",
     "text": [
      "HTTP/1.1 200 OK\r\n",
      "Server: Go-Triton-Server-1.0\r\n",
      "Last-Modified: Friday, 23-Oct-20 09:38:02 UTC\r\n",
      "Content-Type: text/html\r\n",
      "Content-Length: 177\r\n",
      "\r\n",
      "<html>\n",
      "<head>\n",
      "    <title>Basic subdirectory file</title>\n",
      "</head>\n",
      "<body>\n",
      "<h1>This is a basic index file for a subdirectory</h1>\n",
      "You can use this for testing.\n",
      "<p>\n",
      "</body>\n",
      "</html>\n",
      "\n"
     ]
    }
   ],
   "source": [
    "test4 =b\"GET /subdir1/ HTTP/1.1\\r\\nHost: Ha\\r\\n\\r\\n\"\n",
    "request_response(test4,ip,port)"
   ]
  },
  {
   "cell_type": "markdown",
   "metadata": {},
   "source": [
    "### Test 5\n",
    "\n",
    "400 Expect ; malform GET "
   ]
  },
  {
   "cell_type": "code",
   "execution_count": 43,
   "metadata": {},
   "outputs": [
    {
     "name": "stdout",
     "output_type": "stream",
     "text": [
      "HTTP/1.1 400 Bad Request\r\n",
      "Server: Go-Triton-Server-1.0\r\n",
      "\r\n",
      "\n"
     ]
    }
   ],
   "source": [
    "test5 =b\"get /index.html HTTP/1.1\\r\\nHost: Ha\\r\\n\\r\\n\"\n",
    "request_response(test5,ip,port)"
   ]
  },
  {
   "cell_type": "markdown",
   "metadata": {},
   "source": [
    "### Test 6\n",
    "\n",
    "400 Expect ; malform HTTP/1.1 "
   ]
  },
  {
   "cell_type": "code",
   "execution_count": 45,
   "metadata": {},
   "outputs": [
    {
     "name": "stdout",
     "output_type": "stream",
     "text": [
      "HTTP/1.1 400 Bad Request\r\n",
      "Server: Go-Triton-Server-1.0\r\n",
      "\r\n",
      "\n"
     ]
    }
   ],
   "source": [
    "test6 =b\"GET /index.html http\\r\\nHost: Ha\\r\\n\\r\\n\"\n",
    "request_response(test6,ip,port)"
   ]
  },
  {
   "cell_type": "markdown",
   "metadata": {},
   "source": [
    "### Test 7\n",
    "\n",
    "400 Expect ; no host in request"
   ]
  },
  {
   "cell_type": "code",
   "execution_count": 47,
   "metadata": {},
   "outputs": [
    {
     "name": "stdout",
     "output_type": "stream",
     "text": [
      "HTTP/1.1 400 Bad Request\r\n",
      "Server: Go-Triton-Server-1.0\r\n",
      "\r\n",
      "\n"
     ]
    }
   ],
   "source": [
    "test7 =b\"GET /index.html HTTP/1.1\\r\\n\\r\\n\"\n",
    "request_response(test7,ip,port)"
   ]
  },
  {
   "cell_type": "markdown",
   "metadata": {},
   "source": [
    "### Test 8 \n",
    "\n",
    "200 Expect ; test connection close header"
   ]
  },
  {
   "cell_type": "code",
   "execution_count": 49,
   "metadata": {},
   "outputs": [
    {
     "name": "stdout",
     "output_type": "stream",
     "text": [
      "HTTP/1.1 200 OK\r\n",
      "Server: Go-Triton-Server-1.0\r\n",
      "Last-Modified: Friday, 23-Oct-20 09:38:02 UTC\r\n",
      "Content-Type: text/html\r\n",
      "Content-Length: 307\r\n",
      "Connection: close\r\n",
      "\r\n",
      "<html>\n",
      "<head>\n",
      "<title>Basic index file</title>\n",
      "</head>\n",
      "<body>\n",
      "<h1>This is a basic index file</h1>\n",
      "You can use this for testing.\n",
      "<p>\n",
      "<ul>\n",
      "<li><a href=UCSD_Seal.png alt=\"UCSD Seal\">UCSD seal</a>\n",
      "<li><a href=kitten.jpg alt=\"Kitten\">Kitten photo</a>\n",
      "<li><a href=subdir1/>A subdirectory</a>\n",
      "</ul>\n",
      "</body>\n",
      "</html>\n",
      "\n"
     ]
    }
   ],
   "source": [
    "test8 =b\"GET /index.html HTTP/1.1\\r\\nHost: Ha\\r\\nConnection: close\\r\\n\\r\\n\"\n",
    "request_response(test8,ip,port)"
   ]
  },
  {
   "cell_type": "markdown",
   "metadata": {},
   "source": [
    "### Test 9\n",
    "\n",
    "404 Expect ; test file not found"
   ]
  },
  {
   "cell_type": "code",
   "execution_count": 52,
   "metadata": {},
   "outputs": [
    {
     "name": "stdout",
     "output_type": "stream",
     "text": [
      "HTTP/1.1 404 Not Found\r\n",
      "Server: Go-Triton-Server-1.0\r\n",
      "\r\n",
      "\n"
     ]
    }
   ],
   "source": [
    "test9 =b\"GET /sue.html HTTP/1.1\\r\\nHost: Ha\\r\\n\\r\\n\"\n",
    "request_response(test9,ip,port)"
   ]
  },
  {
   "cell_type": "markdown",
   "metadata": {},
   "source": [
    "### Test 10\n",
    "\n",
    "400 Expect ; missing forward slash"
   ]
  },
  {
   "cell_type": "code",
   "execution_count": 54,
   "metadata": {},
   "outputs": [
    {
     "name": "stdout",
     "output_type": "stream",
     "text": [
      "HTTP/1.1 400 Bad Request\r\n",
      "Server: Go-Triton-Server-1.0\r\n",
      "\r\n",
      "\n"
     ]
    }
   ],
   "source": [
    "test10 =b\"GET index.html HTTP/1.1\\r\\nHost: Ha\\r\\n\\r\\n\"\n",
    "request_response(test10,ip,port)"
   ]
  },
  {
   "cell_type": "markdown",
   "metadata": {},
   "source": [
    "### Test 11\n",
    "\n",
    "404 Expect ; file escaping doc root"
   ]
  },
  {
   "cell_type": "code",
   "execution_count": 69,
   "metadata": {},
   "outputs": [
    {
     "name": "stdout",
     "output_type": "stream",
     "text": [
      "HTTP/1.1 404 Not Found\r\n",
      "Server: Go-Triton-Server-1.0\r\n",
      "\r\n",
      "\n"
     ]
    }
   ],
   "source": [
    "test11 =b\"GET /../../request.input HTTP/1.1\\r\\nHost: Ha\\r\\n\\r\\n\"\n",
    "request_response(test11,ip,port)"
   ]
  },
  {
   "cell_type": "markdown",
   "metadata": {},
   "source": [
    "### Test 12\n",
    "200 Expect; file not escaping doc root"
   ]
  },
  {
   "cell_type": "code",
   "execution_count": 7,
   "metadata": {},
   "outputs": [
    {
     "name": "stdout",
     "output_type": "stream",
     "text": [
      "HTTP/1.1 200 OK\r\n",
      "Server: Go-Triton-Server-1.0\r\n",
      "Last-Modified: Monday, 02-Nov-20 00:10:11 UTC\r\n",
      "Content-Type: text/html\r\n",
      "Content-Length: 184\r\n",
      "\r\n",
      "<html>\n",
      "<head>\n",
      "    <title>Twice subdirectory file</title>\n",
      "</head>\n",
      "<body>\n",
      "<h1>This is a basic index file for a double-subdirectory</h1>\n",
      "You can use this for testing.\n",
      "<p>\n",
      "</body>\n",
      "</html>\n",
      "\n"
     ]
    }
   ],
   "source": [
    "test12 =b\"GET /subdir1/subdir11/../../subdir1/subdir11 HTTP/1.1\\r\\nHost: Ha\\r\\n\\r\\n\"\n",
    "request_response(test12,ip,port)"
   ]
  },
  {
   "cell_type": "markdown",
   "metadata": {},
   "source": [
    "### Test 13\n",
    "\n",
    "404 Expect ; file not found in subdir"
   ]
  },
  {
   "cell_type": "code",
   "execution_count": 71,
   "metadata": {},
   "outputs": [
    {
     "name": "stdout",
     "output_type": "stream",
     "text": [
      "HTTP/1.1 404 Not Found\r\n",
      "Server: Go-Triton-Server-1.0\r\n",
      "\r\n",
      "\n"
     ]
    }
   ],
   "source": [
    "test13 =b\"GET /subdir1/sue.html HTTP/1.1\\r\\nHost: Ha\\r\\n\\r\\n\"\n",
    "request_response(test13,ip,port)"
   ]
  },
  {
   "cell_type": "markdown",
   "metadata": {},
   "source": [
    "### Test 14\n",
    "\n",
    "400 Expect ; malformed header"
   ]
  },
  {
   "cell_type": "code",
   "execution_count": 73,
   "metadata": {},
   "outputs": [
    {
     "name": "stdout",
     "output_type": "stream",
     "text": [
      "HTTP/1.1 400 Bad Request\r\n",
      "Server: Go-Triton-Server-1.0\r\n",
      "\r\n",
      "\n"
     ]
    }
   ],
   "source": [
    "test14 =b\"GET /index.html HTTP/1.1\\r\\nHost Ha\\r\\n\\r\\n\"\n",
    "request_response(test14,ip,port)"
   ]
  },
  {
   "cell_type": "markdown",
   "metadata": {},
   "source": [
    "### Test 15\n",
    "\n",
    "200 Expect ; other header added"
   ]
  },
  {
   "cell_type": "code",
   "execution_count": 77,
   "metadata": {},
   "outputs": [
    {
     "name": "stdout",
     "output_type": "stream",
     "text": [
      "HTTP/1.1 200 OK\r\n",
      "Server: Go-Triton-Server-1.0\r\n",
      "Last-Modified: Friday, 23-Oct-20 09:38:02 UTC\r\n",
      "Content-Type: text/html\r\n",
      "Content-Length: 307\r\n",
      "\r\n",
      "<html>\n",
      "<head>\n",
      "<title>Basic index file</title>\n",
      "</head>\n",
      "<body>\n",
      "<h1>This is a basic index file</h1>\n",
      "You can use this for testing.\n",
      "<p>\n",
      "<ul>\n",
      "<li><a href=UCSD_Seal.png alt=\"UCSD Seal\">UCSD seal</a>\n",
      "<li><a href=kitten.jpg alt=\"Kitten\">Kitten photo</a>\n",
      "<li><a href=subdir1/>A subdirectory</a>\n",
      "</ul>\n",
      "</body>\n",
      "</html>\n",
      "\n"
     ]
    }
   ],
   "source": [
    "test15 =b\"GET /index.html HTTP/1.1\\r\\nHost: Ha\\r\\nAgent: Chrome\\r\\n\\r\\n\"\n",
    "request_response(test15,ip,port)"
   ]
  },
  {
   "cell_type": "markdown",
   "metadata": {},
   "source": [
    "### Test 16\n",
    "\n",
    "400 Expect ; Partial Request + Timeout"
   ]
  },
  {
   "cell_type": "code",
   "execution_count": 83,
   "metadata": {},
   "outputs": [
    {
     "name": "stdout",
     "output_type": "stream",
     "text": [
      "HTTP/1.1 400 Bad Request\r\n",
      "Server: Go-Triton-Server-1.0\r\n",
      "\r\n",
      "\n",
      "time interval in seconds:  6.196410179138184\n"
     ]
    }
   ],
   "source": [
    "s = socket()\n",
    "s.connect((ip,port))\n",
    "test16 =b\"GET /index.html HTTP/1.1\\r\\n\"\n",
    "s.sendall(test16)\n",
    "start = time.time()\n",
    "print(s.recv(4096).decode())\n",
    "end = time.time()\n",
    "print('time interval in seconds: ',end - start)"
   ]
  },
  {
   "cell_type": "markdown",
   "metadata": {},
   "source": [
    "### Test 17\n",
    "\n",
    "200, 200, 200 Expect ; Valid Pipeline"
   ]
  },
  {
   "cell_type": "code",
   "execution_count": 84,
   "metadata": {},
   "outputs": [
    {
     "name": "stdout",
     "output_type": "stream",
     "text": [
      "HTTP/1.1 200 OK\r\n",
      "Server: Go-Triton-Server-1.0\r\n",
      "Last-Modified: Friday, 23-Oct-20 09:38:02 UTC\r\n",
      "Content-Type: text/html\r\n",
      "Content-Length: 307\r\n",
      "\r\n",
      "<html>\n",
      "<head>\n",
      "<title>Basic index file</title>\n",
      "</head>\n",
      "<body>\n",
      "<h1>This is a basic index file</h1>\n",
      "You can use this for testing.\n",
      "<p>\n",
      "<ul>\n",
      "<li><a href=UCSD_Seal.png alt=\"UCSD Seal\">UCSD seal</a>\n",
      "<li><a href=kitten.jpg alt=\"Kitten\">Kitten photo</a>\n",
      "<li><a href=subdir1/>A subdirectory</a>\n",
      "</ul>\n",
      "</body>\n",
      "</html>\n",
      "HTTP/1.1 200 OK\r\n",
      "Server: Go-Triton-Server-1.0\r\n",
      "Last-Modified: Friday, 23-Oct-20 09:38:02 UTC\r\n",
      "Content-Type: text/html\r\n",
      "Content-Length: 177\r\n",
      "\r\n",
      "<html>\n",
      "<head>\n",
      "    <title>Basic subdirectory file</title>\n",
      "</head>\n",
      "<body>\n",
      "<h1>This is a basic index file for a subdirectory</h1>\n",
      "You can use this for testing.\n",
      "<p>\n",
      "</body>\n",
      "</html>\n",
      "HTTP/1.1 200 OK\r\n",
      "Server: Go-Triton-Server-1.0\r\n",
      "Last-Modified: Friday, 23-Oct-20 09:38:02 UTC\r\n",
      "Content-Type: text/html\r\n",
      "Content-Length: 184\r\n",
      "\r\n",
      "<html>\n",
      "<head>\n",
      "    <title>Twice subdirectory file</title>\n",
      "</head>\n",
      "<body>\n",
      "<h1>This is a basic index file for a double-subdirectory</h1>\n",
      "You can use this for testing.\n",
      "<p>\n",
      "</body>\n",
      "</html>\n",
      "\n"
     ]
    }
   ],
   "source": [
    "test17 =b\"GET /index.html HTTP/1.1\\r\\nHost: Ha\\r\\n\\r\\n\"\n",
    "test17 +=b\"GET /subdir1/index.html HTTP/1.1\\r\\nHost: Ha\\r\\n\\r\\n\"\n",
    "test17 +=b\"GET /subdir1/subdir11/index.html HTTP/1.1\\r\\nHost: Ha\\r\\n\\r\\n\"\n",
    "request_response(test17,ip,port)"
   ]
  },
  {
   "cell_type": "markdown",
   "metadata": {},
   "source": [
    "### Test 18\n",
    "\n",
    "200, 404, 200 Expect ; Pipeline + 404"
   ]
  },
  {
   "cell_type": "code",
   "execution_count": 85,
   "metadata": {},
   "outputs": [
    {
     "name": "stdout",
     "output_type": "stream",
     "text": [
      "HTTP/1.1 200 OK\r\n",
      "Server: Go-Triton-Server-1.0\r\n",
      "Last-Modified: Friday, 23-Oct-20 09:38:02 UTC\r\n",
      "Content-Type: text/html\r\n",
      "Content-Length: 307\r\n",
      "\r\n",
      "<html>\n",
      "<head>\n",
      "<title>Basic index file</title>\n",
      "</head>\n",
      "<body>\n",
      "<h1>This is a basic index file</h1>\n",
      "You can use this for testing.\n",
      "<p>\n",
      "<ul>\n",
      "<li><a href=UCSD_Seal.png alt=\"UCSD Seal\">UCSD seal</a>\n",
      "<li><a href=kitten.jpg alt=\"Kitten\">Kitten photo</a>\n",
      "<li><a href=subdir1/>A subdirectory</a>\n",
      "</ul>\n",
      "</body>\n",
      "</html>\n",
      "HTTP/1.1 404 Not Found\r\n",
      "Server: Go-Triton-Server-1.0\r\n",
      "\r\n",
      "HTTP/1.1 200 OK\r\n",
      "Server: Go-Triton-Server-1.0\r\n",
      "Last-Modified: Friday, 23-Oct-20 09:38:02 UTC\r\n",
      "Content-Type: text/html\r\n",
      "Content-Length: 184\r\n",
      "\r\n",
      "<html>\n",
      "<head>\n",
      "    <title>Twice subdirectory file</title>\n",
      "</head>\n",
      "<body>\n",
      "<h1>This is a basic index file for a double-subdirectory</h1>\n",
      "You can use this for testing.\n",
      "<p>\n",
      "</body>\n",
      "</html>\n",
      "\n"
     ]
    }
   ],
   "source": [
    "test18 =b\"GET /index.html HTTP/1.1\\r\\nHost: Ha\\r\\n\\r\\n\"\n",
    "test18 +=b\"GET /hello.html HTTP/1.1\\r\\nHost: Ha\\r\\n\\r\\n\"\n",
    "test18 +=b\"GET /subdir1/subdir11/index.html HTTP/1.1\\r\\nHost: Ha\\r\\n\\r\\n\"\n",
    "request_response(test18,ip,port)"
   ]
  },
  {
   "cell_type": "markdown",
   "metadata": {},
   "source": [
    "### Test 19\n",
    "\n",
    "200, 400 Expect ; Pipleline + malform"
   ]
  },
  {
   "cell_type": "code",
   "execution_count": 88,
   "metadata": {},
   "outputs": [
    {
     "name": "stdout",
     "output_type": "stream",
     "text": [
      "HTTP/1.1 200 OK\r\n",
      "Server: Go-Triton-Server-1.0\r\n",
      "Last-Modified: Friday, 23-Oct-20 09:38:02 UTC\r\n",
      "Content-Type: text/html\r\n",
      "Content-Length: 177\r\n",
      "\r\n",
      "<html>\n",
      "<head>\n",
      "    <title>Basic subdirectory file</title>\n",
      "</head>\n",
      "<body>\n",
      "<h1>This is a basic index file for a subdirectory</h1>\n",
      "You can use this for testing.\n",
      "<p>\n",
      "</body>\n",
      "</html>\n",
      "HTTP/1.1 400 Bad Request\r\n",
      "Server: Go-Triton-Server-1.0\r\n",
      "\r\n",
      "\n"
     ]
    }
   ],
   "source": [
    "test19 =b\"GET /subdir1/index.html HTTP/1.1\\r\\nHost: Ha\\r\\n\\r\\n\"\n",
    "test19 +=b\"GET /index.html HTTP/1.1\\r\\nHost:: Ha\\r\\n\\r\\n\"\n",
    "request_response(test19,ip,port)"
   ]
  },
  {
   "cell_type": "markdown",
   "metadata": {},
   "source": [
    "### Test 20\n",
    "\n",
    "200,200, N/A ; Pipleline + connection close"
   ]
  },
  {
   "cell_type": "code",
   "execution_count": 90,
   "metadata": {},
   "outputs": [
    {
     "name": "stdout",
     "output_type": "stream",
     "text": [
      "HTTP/1.1 200 OK\r\n",
      "Server: Go-Triton-Server-1.0\r\n",
      "Last-Modified: Friday, 23-Oct-20 09:38:02 UTC\r\n",
      "Content-Type: text/html\r\n",
      "Content-Length: 307\r\n",
      "\r\n",
      "<html>\n",
      "<head>\n",
      "<title>Basic index file</title>\n",
      "</head>\n",
      "<body>\n",
      "<h1>This is a basic index file</h1>\n",
      "You can use this for testing.\n",
      "<p>\n",
      "<ul>\n",
      "<li><a href=UCSD_Seal.png alt=\"UCSD Seal\">UCSD seal</a>\n",
      "<li><a href=kitten.jpg alt=\"Kitten\">Kitten photo</a>\n",
      "<li><a href=subdir1/>A subdirectory</a>\n",
      "</ul>\n",
      "</body>\n",
      "</html>\n",
      "HTTP/1.1 200 OK\r\n",
      "Server: Go-Triton-Server-1.0\r\n",
      "Last-Modified: Friday, 23-Oct-20 09:38:02 UTC\r\n",
      "Content-Type: text/html\r\n",
      "Content-Length: 177\r\n",
      "Connection: close\r\n",
      "\r\n",
      "<html>\n",
      "<head>\n",
      "    <title>Basic subdirectory file</title>\n",
      "</head>\n",
      "<body>\n",
      "<h1>This is a basic index file for a subdirectory</h1>\n",
      "You can use this for testing.\n",
      "<p>\n",
      "</body>\n",
      "</html>\n",
      "\n"
     ]
    }
   ],
   "source": [
    "test20 =b\"GET /index.html HTTP/1.1\\r\\nHost: Ha\\r\\n\\r\\n\"\n",
    "test20 +=b\"GET /subdir1/index.html HTTP/1.1\\r\\nHost: Ha\\r\\nConnection: close\\r\\n\\r\\n\"\n",
    "test20 +=b\"GET /subdir1/subdir11/index.html HTTP/1.1\\r\\nHost: Ha\\r\\n\\r\\n\"\n",
    "request_response(test20,ip,port)"
   ]
  },
  {
   "cell_type": "markdown",
   "metadata": {},
   "source": [
    "### Test 21\n",
    "\n",
    "200 Expect ; get image file"
   ]
  },
  {
   "cell_type": "code",
   "execution_count": 93,
   "metadata": {},
   "outputs": [
    {
     "name": "stdout",
     "output_type": "stream",
     "text": [
      "b'HTTP/1.1 200 OK\\r\\nServer: Go-Triton-Server-1.0\\r\\nLast-Modified: Friday, 23-Oct-20 09:38:02 UTC\\r\\nContent-Type: image/png\\r\\nContent-Length: 637155\\r\\n\\r\\n\\x89PNG\\r\\n\\x1a\\n\\x00\\x00\\x00\\rIHDR\\x00\\x00\\x07\\x80\\x00\\x00\\x07\\x80\\x08\\x06\\x00\\x00\\x00/\\xa2J\\xc6\\x00\\x00\\x00\\x06bKGD\\x00\\xff\\x00\\xff\\x00\\xff\\xa0\\xbd\\xa7\\x93\\x00\\x00 \\x00IDATx\\x9c\\xec\\xddw\\x9c\\\\\\xe5y\\xf7\\xff\\xef}\\xa6\\xefl\\xafZ\\xedjU\\x91\\x90\\x04\\xa2H\\x98\"\\x81\\x01\\x17J\\x00\\x938\\xe0\\xd8I\\x9cb\\xc7\\xd8\\x01\\xcb-\\x0e\\xc9/O~V\\xf28qb;\\x14\\t\\'&\\x89\\x83;1`cLs\\x03aP\\x03$\\x04\\x08\\x15\\x84z\\xd9^gwv\\xfa\\xb9\\x9f?$0\\x180H\\x9a\\xdd3\\xe5\\xf3~\\xbd\\xf4\\x92v\\xc5\\xde\\xe7\\xbbB\\x9a\\xb9\\xe7\\\\s]\\xb7\\x04\\x00\\x00\\x00\\x00\\x00\\x00\\x00\\x00\\x00\\x00\\x00\\x00\\x00\\x00\\x00\\x00\\x00\\x00\\x00\\x00\\x00\\x00\\x00\\x00\\x00\\x00\\x00\\x00\\x00\\x00\\x00\\x00\\x00\\x00\\x00\\x00\\x00\\x00\\x00\\x00\\x00\\x00\\x00\\x00\\x00\\x00\\x00\\x00\\x00\\x00\\x00\\x00\\x00\\x00\\x00\\x00\\x00\\x00\\x00\\x00\\x00\\x00\\x00\\x00\\x00\\x00\\x00\\x00\\x00\\x00\\x00\\x00\\x00\\x00\\x00\\x00\\x00\\x00\\x00\\x00\\x00\\x00\\x00\\x00\\x00\\x00\\x00\\x00\\x00\\x00\\x00\\x00\\x00\\x00\\x00\\x00\\x00\\x00\\x00\\x00\\x00\\x00\\x00\\x00\\x00\\x00\\x00\\x00\\x00\\x00\\x00\\x00\\x00\\x00\\x00\\x00\\x00\\x00\\x00\\x00\\x00\\x00\\x00\\x00\\x00\\x00\\x00\\x00\\x00\\x00\\x00\\x00\\x00\\x00\\x00\\x00\\x00\\x00\\x00\\x00\\x00\\x00\\x00\\x00\\x00\\x00\\x00\\x00\\x00\\x00\\x00\\x00\\x00\\x00\\x00\\x00\\x00\\x00\\x00\\x00\\x00\\x00\\x00\\x00\\x00\\x00\\x00\\x00\\x00\\x00\\x00\\x00\\x00\\x00\\x00\\x00\\x00\\x00\\x00\\x00\\x00\\x00\\x00\\x00\\x00\\x00\\x00\\x00\\x00\\x00\\x00\\x00\\x00\\x00\\x00\\x00\\x00\\x00\\x00\\x00\\x00\\x00\\x00\\x00\\x00\\x00\\x00\\x00\\x00\\x00\\x00\\x00\\x00\\x00\\x00\\x00\\x00\\x00\\x00\\x00\\x00\\x00\\x00\\x00\\x00\\x00\\x00\\x00\\x00\\x00\\x00\\x00\\x00\\x00\\x00\\x00\\x00\\x00\\x00\\x00\\x00\\x00\\x00\\x00\\x00\\x00\\x00\\x00\\x00\\x00\\x00\\x00\\x00\\x00\\x00\\x00\\x00\\x00\\x00\\x00\\x00\\x00\\x00\\x00\\x00\\x00\\x00\\x00\\x00\\x00\\x00\\x00\\x00\\x00\\x00\\x00\\x00\\x00\\x00\\x00\\x00\\x00\\x00\\x00\\x00\\x00\\x00\\x00\\x00\\x00\\x00\\x00\\x00\\x00\\x00\\x00\\x00\\x00\\x00\\x00\\x00\\x00\\x00\\x00\\x00\\x00\\x00\\x00\\x00\\x00\\x00\\x00\\x00\\x00\\x00\\x00\\x00\\x00\\x00\\x00\\x00\\x00\\x00\\x00\\x00\\x00\\x00\\x00\\x00\\x00\\x00\\x00\\x00\\x00\\x00\\x00\\x00\\x00\\x00\\x00\\x00\\x00\\x00\\x00\\x00\\x00\\x00\\x00\\x00\\x00\\x00\\x00\\x00\\x00\\x00\\x00\\x00\\x00\\x00\\x00\\x00\\x00\\x00\\x00\\x00\\x00\\x00\\x00\\x00\\x00\\x00\\x00\\x00\\x00\\x00\\x00\\x00\\x00\\x00\\x00\\x00\\x00\\x00\\x00\\x00\\x00\\x00\\x00\\x00\\x00\\x00\\x00\\x00\\x00\\x00\\x00\\x00\\x00\\x00\\x00\\x00\\x00\\x00\\x00\\x00\\x00\\x00\\x00\\x00\\x00\\x00\\x00(\\x18\\xc6\\xeb\\x00\\x00\\x00\\x00\\x00\\x00L\\xa4\\xe7\\xbe\\xd2\\x12\\x8dE\\x93\\xc1\\xdf\\xf6\\xdf\\x98\\xd1@v\\xd9\\x8d\\xfd\\xa3\\x93\\x95\\t\\x00\\x00\\x00\\x00\\x80\\x89B\\x01\\x18\\x00\\x00\\x00\\x00pB6\\xac\\xac\\xaf\\xce\\xf8s>\\x7f*R\\x93\\x95u\\xfc\\x81\\\\\\xad\\xc9\\xc9Xc\\xeb$\\xc9\\x1a\\xa7\\xce\\xb82V\\xb6\\xd68r\\\\kk\\x1c9>I\\xd5\\x92\\xf5[\\xa3*\\xe3\\xda\\x805\\xa6RRPRTRHR\\xc5o\\\\\\xaaRF\\x81\\xd7|\\xc6\\xaa\\xee7\\xfe\\x9b\\x80\\xa4\\xca<}k\\tI\\xc9\\xd7~\\xca\\x8e\\xc8\\x18\\xf7U\\xd7\\xcfI\\x8a\\xfd\\xc6\\xd7%\\x8f~\\xed\\x91\\xaf7f\\\\\\xb2)\\xb9\\x8a\\x1bc\\xd2\\xae4&\\xb9\\x19\\x19\\x8d\\x1a\\xd7d\\xad\\x143\\x8e\\xc9I&fl.\\xe7\\xba\\x1a\\xf1\\x19\\xe3\\xe6\\x8c3\\xec\\xe6\\x8cU(9\\x94M\\x19{\\xd1g\\x86\\x87\\xf3\\xf4}\\x01\\x00\\x00\\x00\\x00J\\x18\\x05`\\x00\\x00\\x00\\x00(S\\x1boW@\\xa3SkR\\xc1l\\x8d\\xcf\\xba\\xb5\\xael\\xad1\\xaaq\\x8dS\\xe3\\xc8\\xd6\\xba\\xaej\\x8cQ\\x8d\\xb1\\xb6\\xc6\\x1a\\xa7F\\xb25\\x92jeT\\'k^\\xfe\\xd8\\xef\\xf5\\xf7Qf\\\\I#2\\x1a\\x92\\xd5\\x88\\xa4\\x11I\\xc32f\\xc4Xw\\xc4Z3b\\x8dF\\x8c1\\xc3\\xd6j\\xc4\\x91;\\x9c3f\\xd8\\xef\\x9a\\x91\\\\\\xd0\\x19\\x19\\xc9T\\x8d\\\\\\xbe|W\\xca\\xe3\\xef\\x01\\x00\\x00\\x00\\x000\\x81(\\x00\\x03\\x00\\x00\\x00@\\x91\\xbb\\xeb.\\xf9f\\xf455e]\\xa7\\xc9\\xd8l\\x8bdZ\\xac\\xd4de\\x9b\\x8c1\\x8d\\xb2\\xaa\\x95l\\x8d\\x91Sc\\x8d\\xad\\x91U\\x8d\\xa4\\x1a\\x1d\\xe9\\xb4E\\xf9IH\\xaf\\x14\\x8fG\\xac5#\\xc6\\xd8a#\\r\\xbbVC\\x8e\\xd4\\xe3\\xca\\xf6\\x199}9c\\xba\\x8cq\\xfb\\xc2\\xc1\\xfe\\xbe%\\xd7)\\xe3qn\\x00\\x00\\x00\\x00\\xc0\\xdb@\\x01\\x18\\x00\\x00\\x00\\x00\\n\\xcc\\xc6\\xdb\\x15H\\xa6\\x1b\\x9b\\xfc\\xaeZ\\xad\\xd1T+[g\\xa5VG\\x9aje\\xea$\\xb5J\\x9a*\\xa9\\xee\\xe8\\x8f\\xb0\\xa7\\x81Q.\\x92\\x92\\x86\\x8e\\xfe\\xe8\\x94\\xd4ed\\x87\\\\k\\x86\\x8c\\xd4i\\x8c\\xba\\x8c5C\\x19\\xd7\\xe9\\xac\\x1f\\xe99\\xb4p\\x85\\xd2\\xde\\xc6\\x05\\x00\\x00\\x00\\x80\\xf2D\\x01\\x18\\x00\\x00\\x00\\x00&\\xd1S_k\\x9a\\xe2fm\\x9bu\\xd4f\\xad\\xed\\x90u\\xda\\xe4\\xa8\\xd5\\xc86Y\\xabf+\\xb5\\x18\\xa9I\\x14uQ\\xdc\\xd2\\x92\\xfae\\xd4+\\xabnI}F\\xea\\xb5\\xc6\\x1c4\\xd6=(W\\x87s>s\\xb0\\xb3\\xa5\\xbf\\xe7\\xdak\\x95\\xf3:,\\x00\\x00\\x00\\x00\\x94\\x12\\n\\xc0\\x00\\x00\\x00\\x00\\x90\\x07\\xab\\xbf\\xd6T\\x19\\xb0\\xb9\\xe9>\\xd7\\xb4ZkfYi\\xaaq\\xd4*\\xabY:\\xd2\\xad\\xdb\\xaa#\\xdd\\xba\\x00^kHR\\x97\\xa4N\\x19\\xed\\xb1\\xae\\xba~\\xddQ\\xacN\\x19\\xf7\\xa5s\\x96\\x0f\\xc6\\xbc\\x0e\\t\\x00\\x00\\x00\\x00\\xc5\\x82\\x020\\x00\\x00\\x00\\x00\\xbc\\x85\\xbb\\xee\\x92\\xaf\\xfdP\\xc3\\x14\\x1b\\xb4\\x1dr}m\\xc6\\x1c\\xed\\xde\\x95\\xda\\x8c\\xd4.i\\x9a\\x8e\\x14x\\x03\\xde&\\x05JRNR\\x8f\\x919 \\xeb\\x1e\\xb6\\xd2!k\\xccAY\\x1d\\xf6\\xc9\\x1c\\xca\\xf92\\x07k\\xfb\\x87\\xbb\\x189\\r\\x00\\x00\\x00\\x00GP\\x00\\x06\\x00\\x00\\x00P\\xf6\\xac\\x95YsK\\xcbL\\xbf/;\\xcbZ3\\xcb\\x183\\xcb\\xca\\xce\\x92\\xf4\\xf2\\x0f:w\\x81\\xc27$i\\x8f\\xa4=Ff\\x8f\\xb5v\\x8f1vO6\\xe7\\xdf\\xb3l\\xa4g\\x9fY!\\xd7\\xeb\\x80\\x00\\x00\\x00\\x000\\x19(\\x00\\x03\\x00\\x00\\x00(\\x0b\\xcf}\\xa5%\\x9a\\x08\\xe6Nv\\x1d3\\xcbZw\\x961f\\x96\\xacf\\xc9h\\x96\\xac\\xda$\\x85\\xbc\\xce\\x08`\\xc2\\xa4etHV{dt\\xb48\\xec\\xecq\\\\\\xbb\\'\\x9b\\xd4\\xcee7\\xf6\\x8fz\\x1d\\x10\\x00\\x00\\x00\\x00\\xf2\\x85\\x020\\x00\\x00\\x00\\x80\\x92@\\x17/\\x80\\x13@\\xf70\\x00\\x00\\x00\\x80\\x92A\\x01\\x18\\x00\\x00\\x00@\\xd1y\\xeak\\xf5\\xd3\\\\\\xab\\x93m\\xcew\\xb2k\\xec|#\\xcd\\x934_G\\xce\\xe1\\x05\\x80<2\\x03Vv\\xbb\\xa4\\x1d\\x92vXk\\xb6[\\xd7\\xd9Aa\\x18\\x00\\x00\\x00@\\xa1\\xa2\\x00\\x0c\\x00\\x00\\x00\\xa0 \\xad\\xf9\\xd7\\xc6*\\x7f\\xd8\\x9c\\xe6\\xca.0\\xc6\\xcc\\xb2\\xd6.\\x94\\xa3\\x05\\xb2\\x9a&)\\xe0u>\\x00e/+\\xa3\\x03\\xb2\\xdacd\\xb7Yk\\xb6\\x1ac\\xf7\\xb8\\x01\\xff\\xf3K?\\xd1\\xd3\\xebu8\\x00\\x00\\x00\\x00\\xe5\\x8b\\x020\\x00\\x00\\x00\\x00\\xcf\\xbcfl\\xb3q\\x16Jv\\x81\\xac\\x16JZ F6\\x03(^C\\x92\\xb6\\xc9h\\xab\\xb5v\\x8f#\\xb3-\\x9b\\xf3m\\xa5k\\x18\\x00\\x00\\x00\\xc0d\\xa0\\x00\\x0c\\x00\\x00\\x00`R<\\xf1\\xef5u\\xfe\\\\\\xe04\\xeb\\xda\\x85F\\xce\\x02k\\xec\\xcbc\\x9b\\xa7z\\x9d\\r\\x00&\\x83\\x95\\xfa\\x8d\\xb4\\xddH;d\\xb5\\xc35\\xee\\x0b>\\xd7\\xff\\xdc9\\x9f\\xee\\xed\\xf1:\\x1b\\x00\\x00\\x00\\x80\\xd2A\\x01\\x18\\x00\\x00\\x00@^\\xad\\xbb\\xa9=\\xe2\\xf8R\\x8b\\x8f\\x8cn\\xb6\\x0b\\xad\\xccbI\\x0b%\\xd5z\\x9d\\r\\x00\\nTL\\xd2K\\x92\\xb6\\xc9\\x98M\\x8e\\xabM\\x91\\xb4\\xb3\\xf9\\xb4\\xcf\\xf7\\xc4\\xbd\\x0e\\x06\\x00\\x00\\x00\\xa0\\xf8P\\x00\\x06\\x00\\x00\\x00p\\xdc\\x1e\\xbf\\xb9\\xb15\\xe0\\xd3\\x12\\xd7j\\xb11Z\\xa0#\\x85\\xde\\xb9\\x92\\xfc\\x1eG\\x03\\x80R\\xd0%\\xabMV\\xdad\\x1c\\xb3\\xd55\\xb9mK\\xaf\\x1f\\xdcf\\x8c\\xac\\xd7\\xc1\\x00\\x00\\x00\\x00\\x14.\\n\\xc0\\x00\\x00\\x00\\x00\\xde\\xd2\\xea;f\\x84#\\xb1\\xf8\\x92\\xdf\\xe8\\xea\\xe5\\x9c^\\x00\\x98|#\\x92^\\x90\\xd1V\\xc9ls\\\\m\\xf2\\x87\\x03\\xcf,\\xb9\\xaes\\xdc\\xeb`\\x00\\x00\\x00\\x00\\n\\x03\\x05`\\x00\\x00\\x00\\x00\\xaf\\xb1\\xee\\xa6\\xf6\\x88\\r\\x8e\\x9f\\xeeX\\xe74ku\\xbad\\x16I\\xf6TI\\x95^g\\x03\\x00\\xbc\\xa1\\x94\\xa4\\xad\\xc6\\xda\\xe7\\xac1\\xcf\\xbbV\\xcf\\xf9\\x8d\\xbb\\xe9\\x9c\\xe5\\x831\\xaf\\x83\\x01\\x00\\x00\\x00\\x98|\\x14\\x80\\x01\\x00\\x00\\x802\\xf6Jg\\xaf\\xa3\\xc5\\xb2v\\xa9\\xa4e\\x92Z\\xbd\\xce\\x05\\x00\\xc8\\x8bWFH;F\\x9b\\x92\\xb9\\xec\\x13\\x17}fx\\xd8\\xebP\\x00\\x00\\x00\\x00&\\x16\\x05`\\x00\\x00\\x00\\xa0L\\xd8\\x15r\\xd66\\xd6\\xcfwr\\xceR\\x19-\\x93\\xb4X\\x9c\\xd7\\x0b\\x00\\xe5$\\'\\xe9EI\\x9bd\\xcc&\\xc7\\xd5\\xa6AS\\xf3\\xf4\\xe5\\xcbw\\xa5\\xbc\\x0e\\x06\\x00\\x00\\x00 \\x7f(\\x00\\x03\\x00\\x00\\x00%\\xea\\xc9U-3s6{\\xbe\\x91\\x16\\x1f=\\xb3w\\x91\\xa4*\\xafs\\x01\\x00\\nJF\\xd2\\xf3Fv\\xad\\x956\\xb9\\x8e\\xdd\\xb4\\xf4\\xfa\\xc1m\\xc6\\xc8z\\x1d\\x0c\\x00\\x00\\x00\\xc0\\xf1\\xa1\\x00\\x0c\\x00\\x00\\x00\\x94\\x80u7\\xb5G\\xe4K\\x9f!\\xc7\\x9e%\\xd7\\xbeCFgI:\\xc9\\xeb\\\\@\\xbe\\xb9VJf|9k_\\xfbz6\\xeb\\x1a\\x9b\\xcc:\\xaf{\\x8d\\x9b\\xcc\\xf8\\x94\\xc99\\xce\\xdbY\\xdb\\xe7XU\\x04\\xb3\\xeeo~>\\xe8\\xb3\\n\\xfa^\\xf7iEB\\xaeqdy]\\x8dRtH2OY\\xb9OYk\\x9e\\xe2<a\\x00\\x00\\x00\\xa0\\xb8\\xf0B\\x15\\x00\\x00\\x00(BO\\xdc\\xdc2\\xcb\\xe7\\xcb.\\x935\\xe7\\xca\\xe8\\x1d\\x92N\\x95\\x14\\xf0:\\x17\\xcaG\"\\xe3\\xb8\\xe3i\\xbf\\x1dM\\xf9L6\\xe78\\x89\\xb4O9k4\\x9er\\xe4\\xca(\\x9e\\xf2\\xcbJ\\x8a\\xa7\\xfc\\xcaYi<\\xed\\x93\\xeb\\x1a\\x8dg|\\xca\\xb9\\x8e\\x92\\x19G\\xe9\\x9cQ:\\xeb(\\x95\\xf5)\\x933Jf\\x1der\\x8e\\x12\\x19\\x9f\\\\\\xf7\\xe8\\xd7\\x14a}\\xb52\\x94\\x95c\\xac\"AW~\\xc7*\\x12\\xc8\\xc9w\\xf4g\\xbf\\xcf*\\xecw\\x15\\xf4\\xe7\\x148\\xfak\\xbf\\xcf=\\xf2{\\x8e\\x14\\t\\xe6\\xe43V\\x91`N\\x8e\\xb1\\xaa\\x0c\\x1d\\xf9\\xb9\"xd\\x8dh(\\xebV\\x06s\\xaa\\x08\\xe6\\xdeVQ\\x1b\\xc8\\x13W\\xd2\\x0e\\x19\\xf3\\xb4\\xac]\\xef:\\xee\\x1a\\xba\\x84\\x01\\x00\\x00\\x80\\xc2U|\\xaf\\xa4\\x01\\x00\\x00\\x802\\xb3\\xfa\\x8e\\x19\\xe1\\xf0\\xe8\\xe82\\xd7\\x9ae\\xc6h\\xa9\\xa4\\xb3\\xc5(g\\x1c\\'k\\xa5\\xd1\\x94?\\x93\\xca9Jg\\x1c\\x13K\\xfa\\x9d\\xb1\\xa4\\xdf\\x19K\\xfb5\\x96\\xf2i4\\xe9W\\xfc\\xe8\\xaf\\xc7R~\\xc5\\x93~\\x8d\\xa6\\x8f\\xfcz,\\xe5W:K\\xdd\\xb1\\x90\\x04\\xfd\\xae*CYU\\x86\\xb2\\xaa\\n\\xe6\\x14\\rg\\x8f~\\x9cS4\\x98UU\\xf8\\xc8\\xaf+\\x83Y\\x05\\xfcV!\\x7f\\xce\\xad\\x0eg\\xdd\\xaaPV\\x95\\xe1\\xac\\xff\\xf5=\\xd3\\xc0\\xdb\\x16\\x97\\xf4\\xac\\x91Y#\\xd9\\xb5\\x81P\\xee\\xf1%\\xd7\\r\\x8dx\\x1d\\n\\x00\\x00\\x00\\x00\\x05`\\x00\\x00\\x00\\xa0\\xe0\\xac\\xbb\\xa9=b\\x9d\\xd4Y\\x8e\\xd1\\xf9\\xd6\\xd8\\xa5\\x92\\x96J\\xaa\\xf6:\\x17\\nW,\\xe5sc\\x89\\xa0\\x19\\x19\\xf7\\x9b\\xe1d@\\xc3\\xe3\\x01\\xc5\\x92\\x01\\r\\'\\xfc\\x1a\\x1e\\x0fh8\\x11\\xd0x\\xda\\xafx\\xcaQ<\\xed\\xd7x\\xda\\xe7ud\\x14\\x80p \\xa7\\xca`N\\x15\\xa1\\xac*C\\xae\\xaa\\xc3i\\xd5F\\xb2\\xaa\\xad\\xc8\\xa8:\\x92Qm8\\xab\\xdaHF5\\x91\\xacj*2\\xb6*\\x945\\x8e\\xa1\\xe1\\x13o*!\\xe9)#\\xfb\\x84\\xb5\\xceZ\\xc7\\xe4\\xd616\\x1a\\x00\\x00\\x00\\xf0\\x06\\x05`\\x00\\x00\\x00\\xc0cko\\xab\\x9dn\\\\\\xdf;e\\xccRY-\\x934O\\x12\\x15\\xba2\\xe5Zc\\xc7R\\xbel\\xffXP\\x83\\xf1\\xa0o4\\xe5w\\x06\\xe3A\\r\\x8e\\x07^\\xe9\\xca\\xfd\\xf5\\xc7t\\xe4br\\xbd\\xba\\xe3\\xb8\\xbe\"\\xa3\\xfahZ\\x95\\xa1\\xdc\\xaf\\x7f\\x1d\\xcc\\xaa2\\x94\\xb5\\rUi\\xb7!\\x9aq|\\xa6\\x08gx#\\x7f\\x8c\\xf6\\xc8j\\xad\\xac\\xd6\\xb8>w-c\\xa3\\x01\\x00\\x00\\x80\\xc9\\xc1\\x0b1\\x00\\x00\\x00`\\x92\\xad\\xb9\\xb5\\xae\\xc3g|\\xe7[\\xabe2:_\\xd2\\x02\\xb17/\\x0b\\x99\\x9c\\xb1\\xfd\\xf1\\xa0\\x1d\\x1c\\x0b:}c!\\r\\x8e\\x07\\xd4?\\x16\\xd2@<\\xa0\\xc1\\xf1\\x80\\x06\\xc6\\x82\\x1aI\\x06(\\xea\\xa2$\\xf8}V\\xb5\\xe1\\x8c\\xea*\\xd2\\xaa\\x8ff\\xd4T\\x95R]EF\\x8d\\xd1\\x8c\\x1a+S\\xaa\\x8bf\\xd4\\\\\\x95\\xb2!\\x9f\\xcb\\xe3_\\xf9\\xd8-c\\xd6\\x18\\xd7\\xae\\xb1\\x8e]s\\xde\\'\\x07vx\\x1d\\x08\\x00\\x00\\x00(E\\xbc\\xc8\\x02\\x00\\x00\\x00&\\x90\\xb52k\\xbfV\\xbf\\xc0X\\xf3N\\xe3\\x9a\\xa5\\xd6\\xe8|#M\\xf3:\\x17\\xf2/\\x9e\\xf1e\\x06\\xc7\\x82\\xea\\x8d\\x85\\xfc\\xfd\\xe3\\x013\\x18\\x0f\\xa9\\x7f,\\xa8\\x81x@\\xfdcA\\r\\x1d\\x1d\\xcb\\x0c\\xe0\\xb5*\\x8295F\\xd3j\\xa8L\\xa9\\xbe\"\\xa3\\xa6\\xaa\\xf4\\xd1BqZM\\x95)[\\x1fM\\xbb5\\x91,S\\x11JS\\x9f\\xa4\\xb5\\xc6\\xea\\t\\xd7\\xda\\'\\x0eO\\x1dx\\xe6\\xdak\\x95\\xf3:\\x14\\x00\\x00\\x00P\\xec(\\x00\\x03\\x00\\x00\\x00y\\xb6ve\\xf3l\\xc9\\xbd\\xd81\\xba\\xd8Z]$\\xa9\\xc5\\xebL81\\xd9\\x9cq\\xbbca\\xdb9\\x12\\xf6u\\xc7B\\xaf\\x14t{\\xc7B\\x1a\\x1a\\x0f\\xa8?\\x1eR&\\xcb\\xcb+`\\xa2\\x04\\x1cWu\\xd1\\x8c\\x1a+3j\\x8c\\x1e\\xed$\\xaeL\\xa9\\xa5:\\xad)\\xd5I\\xb5\\xd6\\xa4l\\xd8\\x9f\\xe3\\x1fa\\xf1\\x1b\\xb6\\xd2\\xe3\\x92yD6\\xfb\\xe8y\\xcb\\x87\\xb622\\x1a\\x00\\x00\\x008v\\xbc8\\x02\\x00\\x00\\x00N\\xd0\\x9a\\xdb\\xea\\x17:9g\\xa9\\x8c\\xde-\\xe9\\x9d\\x92\\x9a\\xbd\\xce\\x84c\\xe3Zc\\x07\\xc6\\x83\\xd9\\xce\\xe1\\x90\\xaf{$\\xect\\xc5B\\xea\\x89\\x85\\xd5\\x1d\\x0b\\xa9;\\x16\\xd2X\\xca\\xefuD\\x00o!\\xe0\\xb7\\xaa\\xafH\\xab\\xb5:\\xa9\\x96\\xea\\x94Z\\xabSj9R\\x1cv\\xa7\\xd5&L\\xd0\\xcf\\xa8\\xe9\"4&i\\x83\\x95\\xfd\\xa5\\xcf\\x9a_\\x9e\\xbd\\xbc\\xff\\x19\\n\\xc2\\x00\\x00\\x00\\xc0[\\xe3\\xc5\\x0f\\x00\\x00\\x00p\\x8c\\xd6\\xdcZ\\xd7\\xe1\\xc8w\\xe9\\xd1\\x82\\xef2I\\xad^g\\xc2[Ke\\x9dL\\xf7h({x0\\x1c\\xec\\x8aE|G\\x8a\\xbc!u\\xc5\\xc2\\x1a\\x18\\x0b*Km\\x08(i\\x95\\xa1\\xac\\xa6T\\xa74\\xe5\\xe5\\xc2puJSj\\x92n[m2\\xdb\\x18M\\x07\\xbd\\xce\\x87\\xb7\\xa5O\\xd2c\\xb2\\xfa\\xa5\\xebs\\xd7.\\xbbap\\xab\\xd7\\x81\\x00\\x00\\x00\\x80B\\xc4\\x1d\\x0e\\x00\\x00\\x00\\xe0-\\xac\\xfeZSe \\xab\\x0b\\x1c\\xc7^$\\xab\\x8b%\\x9d.\\xc9\\xf1:\\x17^/\\xe7\\x1a\\xf7p,\\x9c\\xdb?\\x10\\tt\\x0e\\x87\\xd5}\\xb4\\x8b\\xb7\\'\\x16\\xd2@<(\\xd7\\xf2\\x12\\x08\\xc0\\xeb\\xd5Ud\\xd4Z\\x93RKUR\\xad5)M\\xadN\\xa8\\xbd.\\xa9\\xf6\\xfa\\x84\\r\\xf9xwH\\x01\\xdba\\xacy\\xd4u\\xcc\\xa3~\\x93x\\xec\\xec\\x1bF\\x07\\xbc\\x0e\\x04\\x00\\x00\\x00\\x14\\x02^\\xc4\\x00\\x00\\x00\\x00\\xbfa\\xe3\\xedu5\\xe9\\xb4\\xff\\xbd\\x92}\\xb7\\xac\\x96I:Y\\x14|\\x0b\\x86\\xb5\\xd2\\xe0x0\\xb5\\xaf\\xbf\\xc2\\xd97X\\x11\\xe8\\x8a\\x85th0\\xa2\\xfdC\\x11F5\\x03\\xc8\\xbb\\x97;\\x87;\\xea\\xc7\\xd5Q\\x97TG\\xdd\\xb8:\\x1a\\xc6\\xdd\\xa6\\xca\\xb4\\xe3pW\\xa5\\xb0\\x18\\xed\\x91\\xf4K\\xc9\\xfc\\xd2g\\x92\\x8fR\\x10\\x06\\x00\\x00@\\xb9\\xe2\\xa5\\n\\x00\\x00\\x00 \\xe9\\x89\\x95\\xcd\\xa7\\xf9L\\xee2Y\\xf3.IK%E\\xbc\\xce\\x04ih<\\x98\\xd9?\\x18\\xf1\\x1d\\x1c\\x0e;\\x07\\x07#:4\\x1c\\xd1\\xa1\\xa1\\x88\\x86\\xc6\\x03^G\\x03P\\xe6\\xaa\\xc3\\x19M\\xabM\\x1e\\xe9\\x14\\xaeM\\xa8\\xfdH\\x81\\xd86V\\xa6\\x0c\\x85\\xe1\\x82\\x90\\x95\\xecS\\xb2\\xe6\\x11\\xc9\\xf9\\xe9\\xa1\\xd6\\xde\\'\\xaf\\xbdV9\\xafC\\x01\\x00\\x00\\x00\\x93\\x81\\x97$\\x00\\x00\\x00(K\\x8f\\xdf\\xdc\\xd8\\xeawt\\xe5\\x91s|\\xcd\\xc5\\x92m\\xf0:S\\xb9\\xcadM\\xf6\\xc0P$\\xb5\\xbb?\\x1a\\xee\\x1c\\t\\xfb\\x0e\\x0eE\\xb4\\x7f\\xb0\\x82sy\\x01\\x14%\\x9f\\xb1j\\xacJ\\xab\\xb5:\\xa9\\x8e\\xfa\\x84:\\xea\\x12\\xea\\xa8\\x1fwg6\\x8e\\xdb\\xb0\\xdf\\xf5y\\x9d\\xaf\\x8c\\x8dKZ\\'c\\x1ep\\xdd\\xec\\xbd\\xcb>5t\\xc0\\xeb@\\x00\\x00\\x00\\xc0D\\xe1n\\n\\x00\\x00\\x00\\xca\\xc6\\x86\\x95\\xf5\\x0b\\\\\\xeb\\\\.\\xa3\\xcb$-\\x93\\x14\\xf4:S\\xb9\\x89%\\xfc\\xd9\\xdd\\xfd\\x15\\xce\\x9e\\xfeJg\\xef`\\x85\\xf6\\xf6G\\xd49\\x1c\\xa1\\xd0\\x0b\\xa0\\xe49\\x8e\\xd5\\x94\\xaa\\x94f6\\x8ckfc\\\\3\\x1b\\x12\\x9a\\xd54n\\x1b\\xa3)\\x1e\\x00\\'\\x9f+i\\xa31z\\xc8\\xcd\\xd9\\x87\\xce\\x1b\\x1e\\xd8d'\n"
     ]
    }
   ],
   "source": [
    "test21 =b\"GET /UCSD_Seal.png HTTP/1.1\\r\\nHost: Ha\\r\\n\\r\\n\"\n",
    "s = socket()\n",
    "s.connect((ip,port))\n",
    "s.sendall(test21)\n",
    "time.sleep(2)\n",
    "print(s.recv(4096))"
   ]
  },
  {
   "cell_type": "markdown",
   "metadata": {},
   "source": [
    "### Test 22\n",
    "\n",
    "200 Expect ; File type outside MimeMap"
   ]
  },
  {
   "cell_type": "code",
   "execution_count": 96,
   "metadata": {},
   "outputs": [
    {
     "name": "stdout",
     "output_type": "stream",
     "text": [
      "HTTP/1.1 200 OK\r\n",
      "Server: Go-Triton-Server-1.0\r\n",
      "Last-Modified: Friday, 23-Oct-20 09:38:02 UTC\r\n",
      "Content-Type: application/octet-stream\r\n",
      "Content-Length: 4\r\n",
      "\r\n",
      "Yeet\n"
     ]
    }
   ],
   "source": [
    "test22 =b\"GET /subdir1/subdir11/maoyo.giaogiao HTTP/1.1\\r\\nHost: Ha\\r\\n\\r\\n\"\n",
    "request_response(test22,ip,port)"
   ]
  },
  {
   "cell_type": "markdown",
   "metadata": {},
   "source": [
    "### Test 23\n",
    "200, 400, 404 Expect; Concurrency test"
   ]
  },
  {
   "cell_type": "code",
   "execution_count": 22,
   "metadata": {},
   "outputs": [],
   "source": [
    "def concurrency_test(request):\n",
    "    s = socket()\n",
    "    s.connect((ip,port))\n",
    "    s.sendall(request)\n",
    "    time.sleep(2)\n",
    "    print(s.recv(4096).decode())\n",
    "    print()"
   ]
  },
  {
   "cell_type": "code",
   "execution_count": 25,
   "metadata": {},
   "outputs": [
    {
     "name": "stdout",
     "output_type": "stream",
     "text": [
      "HTTP/1.1 200 OK\n",
      "Server: Go-Triton-Server-1.0\n",
      "Last-Modified: Monday, 02-Nov-20 00:10:11 UTC\n",
      "Content-Type: text/html\n",
      "Content-Length: 307\n",
      "\n",
      "<html>\n",
      "<head>\n",
      "<title>Basic index file</title>\n",
      "</head>\n",
      "<body>\n",
      "<h1>This is a basic index file</h1>\n",
      "You can use this for testing.\n",
      "<p>\n",
      "<ul>\n",
      "<li><a href=UCSD_Seal.png alt=\"UCSD Seal\">UCSD seal</a>\n",
      "<li><a href=kitten.jpg alt=\"Kitten\">Kitten photo</a>\n",
      "<li><a href=subdir1/>A subdirectory</a>\n",
      "</ul>\n",
      "</body>\n",
      "</html>\n",
      "\n",
      "HTTP/1.1 400 Bad Request\n",
      "Server: Go-Triton-Server-1.0\n",
      "\n",
      "\n",
      "HTTP/1.1 404 Not Found\n",
      "Server: Go-Triton-Server-1.0\n",
      "\n",
      "\n"
     ]
    }
   ],
   "source": [
    "from multiprocessing import Pool\n",
    "pool = Pool(processes=3)\n",
    "test23 =[b\"GET / HTTP/1.1\\r\\nHost: Ha\\r\\n\\r\\n\", \n",
    "         b\"GET /subdir1/sue.html HTTP/1.1\\r\\nHost: Ha\\r\\n\\r\\n\", \n",
    "         b\"GET index.html HTTP/1.1\\r\\nHost: Ha\\r\\n\\r\\n\"]\n",
    "results = pool.map(request_response, test23)"
   ]
  }
 ],
 "metadata": {
  "kernelspec": {
   "display_name": "Python 3",
   "language": "python",
   "name": "python3"
  },
  "language_info": {
   "codemirror_mode": {
    "name": "ipython",
    "version": 3
   },
   "file_extension": ".py",
   "mimetype": "text/x-python",
   "name": "python",
   "nbconvert_exporter": "python",
   "pygments_lexer": "ipython3",
   "version": "3.7.4"
  }
 },
 "nbformat": 4,
 "nbformat_minor": 2
}
